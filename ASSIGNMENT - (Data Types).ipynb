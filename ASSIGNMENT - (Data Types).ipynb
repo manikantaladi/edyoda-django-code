{
 "cells": [
  {
   "cell_type": "markdown",
   "metadata": {},
   "source": [
    "1.In the pre-smartphone era,each number key is assigned a subset of the alphabet {a,b,…,z}.\n",
    "\n",
    "- 2 is assigned {a,b,c}, \n",
    "- 3 is assigned {d,e,f} \n",
    "- 4 is assigned {g,h,i} \n",
    "- 5 is assigned {j,k,l}\n",
    "- 6 is assigned {m,n,o} \n",
    "- 7 is assigned {p,q,r,s}\n",
    "- 8 is assigned {t,u,v} \n",
    "- 9 is assigned {w,x,y,z}\n",
    "\n",
    "Write a function numbers_to_chars() to find the characters generated using key 9999335533. Output should be \"zeke\"\n",
    "\n",
    "Function Name : numbers_to_chars() Input : Integer number sequence Output : Str"
   ]
  },
  {
   "cell_type": "code",
   "execution_count": 2,
   "metadata": {},
   "outputs": [
    {
     "name": "stdout",
     "output_type": "stream",
     "text": [
      "zeke"
     ]
    }
   ],
   "source": [
    "def numbers_to_chars(key):\n",
    "    d = {\"2\" : [\"a\" , \"b\" , \"c\"] , \"3\" : [\"d\" , \"e\" , \"f\"] , \"4\" : [\"g\" , \"h\" , \"i\"] , \"5\" : [\"j\" , \"k\" , \"l\"] , \"6\" : [\"m\" , \"n\" , \"o\"] , \"7\" : [\"p\" , \"q\" , \"r\" , \"s\"] , \"8\" : [\"t\" , \"u\" , \"v\"] , \"9\" : [\"w\" , \"x\" , \"y\" , \"z\"]}\n",
    "    count = -1                               #As indexing start from '0' we initialize with '-1'\n",
    "    key_s = str(key)                         #Taking it as string for iteration\n",
    "    out_list = []\n",
    "    temp = key_s[0]                          #For comparing with the 1st element in the loop\n",
    "    flag = 0                                 #initilizing dummy variable for storing value\n",
    "    for value in key_s+\" \":                  #given extra \" \" so that it can append upto last value\n",
    "        if value == temp:\n",
    "            count+= 1\n",
    "            flag = value                     #storing value in dummy variable\n",
    "        else:\n",
    "            out_list.append((flag,count))\n",
    "            temp = value                     #storing the value change in temp\n",
    "            count = 0                        #making the count to '0' for new value as indexing start with '0'\n",
    "    for key , index in out_list:\n",
    "        print(d[key][index],end = \"\")        #printing the output values in series without \\n\n",
    "\n",
    "        \n",
    "numbers_to_chars(9999335533)\n",
    "        \n",
    "    \n",
    "    "
   ]
  },
  {
   "cell_type": "markdown",
   "metadata": {},
   "source": [
    "## -------------------------------------------------------------------------------------------------------------------------\n",
    "2.Given a dict of tickets(\"to\":\"from\")\n",
    "\n",
    "{\"Chennai\":\"Banglore\",\"Bombay\":\"Delhi\",\"Goa\":\"Chennai\",\"Delhi\":\"Goa\"} find out the sequence of travel.\n",
    "\n",
    "Expected Output : Bombay->Delhi, Delhi->Goa, Goa->Chennai, Chennai->Banglore\n",
    "\n",
    "Function Name : travel_sequence Input : dict Output : dict"
   ]
  },
  {
   "cell_type": "code",
   "execution_count": 11,
   "metadata": {
    "scrolled": true
   },
   "outputs": [
    {
     "name": "stdout",
     "output_type": "stream",
     "text": [
      "Bombay->Delhi,Delhi->Goa,Goa->Chennai,Chennai->Banglore,"
     ]
    }
   ],
   "source": [
    "def travel_sequence(input_dict):\n",
    "    \n",
    "    output_dict = {}\n",
    "    output_list = []\n",
    "    \n",
    "    for k in input_dict.keys():\n",
    "        if k not in input_dict.values():\n",
    "            output_list.append(k)\n",
    "            \n",
    "    ele = output_list[0]\n",
    "\n",
    "    for i in range(len(input_dict)):\n",
    "        output_dict[ele] = input_dict[ele]\n",
    "        ele = input_dict[ele]\n",
    "    \n",
    "    output_keys = list(output_dict.keys())\n",
    "    output_values = list(output_dict.values())\n",
    "    \n",
    "    for index in range(len(output_keys)):\n",
    "        print(\"{}->{}\".format(output_keys[index],output_values[index]), end = \",\")\n",
    "          \n",
    "travel_sequence({\"Chennai\":\"Banglore\",\"Bombay\":\"Delhi\",\"Goa\":\"Chennai\",\"Delhi\":\"Goa\"})"
   ]
  },
  {
   "cell_type": "markdown",
   "metadata": {},
   "source": [
    "## -------------------------------------------------------------------------------------------------------------------------\n",
    "3.Given a dictionary that associates the names of states with a list of the names of cities that appear in it,\n",
    "write a program that creates a new dictionary that associates the name of a city with the list of states that it appears in.\n",
    "\n",
    "As an example, if the first dictionary is\n",
    "\n",
    "Input : states = {'New Hampshire': ['Concord', 'Hanover'],\n",
    "\n",
    "'Massachusetts': ['Boston', 'Concord', 'Springfield'],\n",
    "\n",
    "'Illinois': ['Chicago', 'Springfield', 'Peoria'] }\n",
    "\n",
    "Output:\n",
    "\n",
    "cities = {'Hanover': ['New Hampshire'],\n",
    "\n",
    "'Chicago': ['Illinois'],'Boston': ['Massachusetts'],\n",
    "\n",
    "'Peoria': ['Illinois'],'Concord': ['New Hampshire','Massachusetts'],\n",
    "\n",
    "'Springfield': ['Massachusetts', 'Illinois'] }\n",
    "\n",
    "Function Name : city_with_states Input : dict Output : dict"
   ]
  },
  {
   "cell_type": "code",
   "execution_count": 12,
   "metadata": {},
   "outputs": [
    {
     "name": "stdout",
     "output_type": "stream",
     "text": [
      "{'Concord': ['New Hampshire', 'Massachusetts'], 'Hanover': ['New Hampshire'], 'Boston': ['Massachusetts'], 'Springfield': ['Massachusetts', 'Illinois'], 'Chicago': ['Illinois'], 'Peoria': ['Illinois']}\n"
     ]
    }
   ],
   "source": [
    "def city_with_states(states):\n",
    "    cities = {}\n",
    "    for key , value in states.items():\n",
    "        for i in range(len(value)):\n",
    "            cities.setdefault(value[i] ,[])\n",
    "            \n",
    "    for key , value in cities.items(): \n",
    "        for key1 , value1 in states.items():\n",
    "            if key in value1:\n",
    "                value.append(key1)\n",
    "                \n",
    "    print(cities)\n",
    "\n",
    "city_with_states({'New Hampshire': ['Concord', 'Hanover'],'Massachusetts': ['Boston', 'Concord', 'Springfield'],\n",
    "                  'Illinois': ['Chicago', 'Springfield', 'Peoria'] })"
   ]
  },
  {
   "cell_type": "markdown",
   "metadata": {},
   "source": [
    "## -------------------------------------------------------------------------------------------------------------------------\n",
    "4.How do you check if a given String contains valid parentheses? Given a string containing just the \n",
    "characters '(', ')', '{', '}', '[' and ']', write a program in python to check if the input string is valid. \n",
    "The brackets must close in the correct order, \"()\" and \"()[]{}\" are all valid but \"(]\" and \"([)]\" are not.\n",
    "\n",
    "Function Name : check_parentheses Input : str Output : True/False"
   ]
  },
  {
   "cell_type": "code",
   "execution_count": null,
   "metadata": {},
   "outputs": [],
   "source": [
    "def check_parentheses(string):\n",
    "    \n",
    "    if len(string) % 2 == 0:\n",
    "        out_list = []\n",
    "        \n",
    "        for index , value in enumerate(string):\n",
    "            \n",
    "            if value in \"({[\":\n",
    "                out_list.append(value)\n",
    "                \n",
    "            elif value in \")}]\":\n",
    "                \n",
    "                if value == \")\" and out_list[-1] == \"(\":\n",
    "                    out_list.pop(-1)\n",
    "                elif value == \"}\" and out_list[-1] == \"{\":\n",
    "                    out_list.pop(-1)\n",
    "                elif value == \"]\" and out_list[-1] == \"[\":\n",
    "                    out_list.pop(-1)\n",
    "        \n",
    "        if out_list == []:\n",
    "            return True\n",
    "        else:\n",
    "            return False\n",
    "    else:\n",
    "        return False\n",
    "check_parentheses(input(\"input string :\"))"
   ]
  },
  {
   "cell_type": "markdown",
   "metadata": {},
   "source": [
    "## -------------------------------------------------------------------------------------------------------------------------\n",
    "5.Write a program to convert Integer to Roman String. For example, if a given integer is 5 then your program should print \"V\".\n",
    "\n",
    "Function Name : int_roman Input : int Output : str"
   ]
  },
  {
   "cell_type": "code",
   "execution_count": 13,
   "metadata": {},
   "outputs": [
    {
     "data": {
      "text/plain": [
       "'MMMMM'"
      ]
     },
     "execution_count": 13,
     "metadata": {},
     "output_type": "execute_result"
    }
   ],
   "source": [
    "d = {1000:\"M\" , 900:\"CM\" , 500:\"D\" , 400:\"CD\" , 100:\"C\" ,\n",
    "     90:\"XC\" , 50:\"L\" , 40:\"XL\" , 10:\"X\" , 9:\"IX\" , 5:\"V\" , 4:\"IV\" , 1:\"I\"}\n",
    "def int_roman(value):\n",
    "    if value in d:\n",
    "       print(d[value])\n",
    "    else:\n",
    "        s = \"\"\n",
    "        for value1 in d:\n",
    "            for value2 in d:\n",
    "                if value != 0:\n",
    "                    if value2 < value or value2 == value:\n",
    "                        value = value - value2\n",
    "                        s += d[value2]\n",
    "                        break\n",
    "        return s\n",
    "                   \n",
    "           \n",
    "int_roman(5000)"
   ]
  },
  {
   "cell_type": "markdown",
   "metadata": {},
   "source": [
    "## -------------------------------------------------------------------------------------------------------------------------\n",
    "6.Write a program utility that counts the number of lines of actual python code in a. For the purpose of this exercise, \n",
    "a line is counted if it contains something other than whitespace or text in a comment.\n",
    "\n",
    "remember that comment start sequences that appear inside python strings should be ignored.\n",
    "\n",
    "Function Name : count_code_lines Input : str Output : int\n",
    "\n",
    "input_code = \"\"\"\n",
    "#Linear search implementation\n",
    "#Takes list and a key as input and returns True or False as answer\n",
    "def linear_saerch(l,key):\n",
    "    for value in l:\n",
    "        if key == value:\n",
    "            return True #Return True is key exist\n",
    "    else:\n",
    "        return False #Return False if key does not exist\n",
    "\n",
    "l = [100,200,300,400,500,600]\n",
    "key = 500\n",
    "result = linear_search(l,key)\n",
    "print(result)\n",
    "\"\"\""
   ]
  },
  {
   "cell_type": "code",
   "execution_count": 28,
   "metadata": {},
   "outputs": [
    {
     "name": "stdout",
     "output_type": "stream",
     "text": [
      "The total number of lines of the code are : 10\n"
     ]
    }
   ],
   "source": [
    "def count_code_lines(str):\n",
    "    import re\n",
    "    lines_list = str.split(\"\\n\")\n",
    "    count = 0\n",
    "    for ind_line in lines_list:\n",
    "        if re.findall(\"^#\",ind_line) == [] and ind_line != '':\n",
    "            count += 1\n",
    "    print(\"The total number of lines of the code are :\",count)\n",
    "\n",
    "count_code_lines(\"\"\"\n",
    "#Linear search implementation\n",
    "#Takes list and a key as input and returns True or False as answer\n",
    "def linear_saerch(l,key):\n",
    "    for value in l:\n",
    "        if key == value:\n",
    "            return True #Return True is key exist\n",
    "    else:\n",
    "        return False #Return False if key does not exist\n",
    "\n",
    "l = [100,200,300,400,500,600]\n",
    "key = 500\n",
    "result = linear_search(l,key)\n",
    "print(result)\n",
    "\"\"\")"
   ]
  },
  {
   "cell_type": "markdown",
   "metadata": {},
   "source": [
    "## -------------------------------------------------------------------------------------------------------------------------\n",
    "7.Write a program to check the strength of a supplied password\n",
    "\n",
    "The length of the password must be at least 8 characters in length The password must contain \n",
    "at least 1 capital letter The password must contain at least 1 digit The password must contain \n",
    "at least 1 special character and allowed special characters are (!,@,#,$,&)\n",
    "\n",
    "We need to provide feedback to the user about the strength of their password\n",
    "\n",
    "Provide the user with a list of reasons why their password is 'weak'\n",
    "Function Name : check_password_strength Input : str Output : tuple (str,list) \n",
    "eg (\"Weak\",[\"The password must contain at least 1 capital letter\"])"
   ]
  },
  {
   "cell_type": "code",
   "execution_count": 19,
   "metadata": {},
   "outputs": [
    {
     "name": "stdout",
     "output_type": "stream",
     "text": [
      "kjnavkjbnkuyrH@54\n",
      "Valid Password\n"
     ]
    }
   ],
   "source": [
    "import re\n",
    "def check_password_strength(password):\n",
    "    flag = 0\n",
    "    while True:\n",
    "        if (len(password)<8):\n",
    "            flag = -1\n",
    "            break\n",
    "        elif not re.search(\"[a-z]\", password):\n",
    "            flag = -1\n",
    "            print(\"your password is not having alphabets\")\n",
    "            break\n",
    "        elif not re.search(\"[A-Z]\", password):\n",
    "            flag = -1\n",
    "            print(\"your password is not having Capital Alphabets\")\n",
    "            break\n",
    "        elif not re.search(\"[0-9]\", password):\n",
    "            flag = -1\n",
    "            print(\"your password is not having Numbers\")\n",
    "            break\n",
    "        elif not re.search(\"[(!)?(@)?(#)?($)?(&)]\", password):\n",
    "            flag = -1\n",
    "            print(\"your password is not having special characters\")\n",
    "            break\n",
    "        else:\n",
    "            flag = 0\n",
    "            print(\"Valid Password\")\n",
    "            break\n",
    "    if flag ==-1:\n",
    "        print(\"not a valid password\")\n",
    "\n",
    "check_password_strength(input())"
   ]
  },
  {
   "cell_type": "markdown",
   "metadata": {},
   "source": [
    "## -------------------------------------------------------------------------------------------------------------------------\n",
    "8.Check if given sentence is syntactically correct or not\n",
    "A simple sentence if syntactically correct if it fulfills given rules. The following are given rules.\n",
    "\n",
    "Sentence must start with a Uppercase character (e.g. Noun/ I/ We/ He etc.)\n",
    "There must be spaces between words.\n",
    "Then the sentence must end with a full stop(.).\n",
    "Two continuous spaces are not allowed.\n",
    "Two continuous uppercase characters are not allowed.\n",
    "However the sentence can end after an uppercase character.\n",
    "Function Name : check_sentence Input : str Output : tuple (True/False,list) eg (False,[\"There must be spaces between words.\"])"
   ]
  },
  {
   "cell_type": "code",
   "execution_count": 16,
   "metadata": {},
   "outputs": [
    {
     "name": "stdout",
     "output_type": "stream",
     "text": [
      "False ['Continuous two uppercase characters are not allowed.']\n"
     ]
    }
   ],
   "source": [
    "import re\n",
    "def check_sentence(sentence):\n",
    "    if sentence[0].isupper():\n",
    "        if \"  \" not in sentence:\n",
    "            if sentence[-1] == \".\":\n",
    "                pattern = re.compile(\"[A-Z]{2}\")\n",
    "                match = re.search(pattern,sentence)\n",
    "                if not match:\n",
    "                    print(True,[\"syntactically correct\"])\n",
    "                else:\n",
    "                    print(False,[\"Continuous two uppercase characters are not allowed.\"])\n",
    "            else:\n",
    "                print(False,[\"Sentence must end with a full stop.\"])\n",
    "        else:\n",
    "            print(False,[\"Continuous two spaces are not allowed.\"])\n",
    "    else:\n",
    "        print(False,[\"Sentence must start with a Uppercase character\"])\n",
    "        \n",
    "output = check_sentence(\"My NAame Is Manikanta.\")"
   ]
  },
  {
   "cell_type": "markdown",
   "metadata": {},
   "source": [
    "## -------------------------------------------------------------------------------------------------------------------------\n",
    "9.Given an array arr[] of integers and an integer K, the task is to find the greatest contiguous sub-array of size K.\n",
    "\n",
    "Sub-array X is said to be greater than sub-array Y if the first non-matching element in both the sub-arrays has a \n",
    "greater value in X than in Y.\n",
    "\n",
    "For example : Input: arr[] = {1, 4, 3, 2, 5}, K = 4 Output: 4 3 2 5 Two subarrays are {1, 4, 3, 2} and {4, 3, 2, 5}. \n",
    "First non-matching element from array1 and array 2 : 1 and 4 as 4 is greater Hence, the greater one is {4, 3, 2, 5}\n",
    "\n",
    "Function Name : greatest_sub_array() Input : list Output : list"
   ]
  },
  {
   "cell_type": "code",
   "execution_count": 51,
   "metadata": {},
   "outputs": [
    {
     "data": {
      "text/plain": [
       "'From [1, 4, 3, 2, 5] the greatest subList is [4, 3, 2, 5]'"
      ]
     },
     "execution_count": 51,
     "metadata": {},
     "output_type": "execute_result"
    }
   ],
   "source": [
    "def greatest_sub_array(arr , k):\n",
    "    list_subarr = []\n",
    "    for i in range(len(arr)):\n",
    "        if len(arr[i:i+k]) == k:\n",
    "            list_subarr.append(arr[i:i+k])\n",
    "        else:\n",
    "            break\n",
    "    max = list_subarr[0]\n",
    "    for i in list_subarr:\n",
    "        if max[0] < i[0] :\n",
    "            max = i\n",
    "    return \"From {} the greatest subList is {}\".format(arr , max)\n",
    "\n",
    "greatest_sub_array([1 , 4 , 3 , 2 , 5] , 4)"
   ]
  },
  {
   "cell_type": "markdown",
   "metadata": {},
   "source": [
    "## -------------------------------------------------------------------------------------------------------------------------\n",
    "10.Given a list of N integers. The task is to eliminate the minimum number of elements such that in the resulting list the \n",
    "sum of any two adjacent values is even.\n",
    "\n",
    "Numbers = [1, 3, 5, 4, 2] Output = [1, 3, 5] Total elements removed 2 Elements to be removed [4,2]\n",
    "\n",
    "Function Name : adj_sum_even() Input : list Output : tuple(int,list)"
   ]
  },
  {
   "cell_type": "code",
   "execution_count": 22,
   "metadata": {},
   "outputs": [
    {
     "name": "stdout",
     "output_type": "stream",
     "text": [
      "Total elements removed 3 , Elements to be removed [6, 4, 2]\n"
     ]
    }
   ],
   "source": [
    "def adj_sum_even(input_list):\n",
    "    even_list = []\n",
    "    odd_list = []\n",
    "    length = len(input_list)\n",
    "    for value in range(length):\n",
    "        if input_list[value] % 2 == 0:\n",
    "            even_list.append(input_list[value])\n",
    "        else:\n",
    "            odd_list.append(input_list[value])\n",
    "    if len(even_list) > len(odd_list):\n",
    "        print(\"Total elements removed {} , Elements to be removed {}\".format(len(odd_list),odd_list))\n",
    "    else:\n",
    "        print(\"Total elements removed {} , Elements to be removed {}\".format(len(even_list),even_list))\n",
    "adj_sum_even([1, 6, 7, 3, 5, 4, 2])"
   ]
  }
 ],
 "metadata": {
  "kernelspec": {
   "display_name": "Python 3",
   "language": "python",
   "name": "python3"
  },
  "language_info": {
   "codemirror_mode": {
    "name": "ipython",
    "version": 3
   },
   "file_extension": ".py",
   "mimetype": "text/x-python",
   "name": "python",
   "nbconvert_exporter": "python",
   "pygments_lexer": "ipython3",
   "version": "3.7.4"
  }
 },
 "nbformat": 4,
 "nbformat_minor": 2
}
